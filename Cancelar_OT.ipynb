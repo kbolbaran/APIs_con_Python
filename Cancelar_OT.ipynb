{
 "cells": [
  {
   "cell_type": "code",
   "execution_count": 1,
   "metadata": {},
   "outputs": [],
   "source": [
    "# Importar librerias.\n",
    "import requests\n",
    "import json\n",
    "import pandas as pd\n",
    "import time\n",
    "import datetime\n",
    "# Iniciar el temporizador.\n",
    "inicio = time.time()"
   ]
  },
  {
   "cell_type": "code",
   "execution_count": 2,
   "metadata": {},
   "outputs": [],
   "source": [
    "import datetime\n",
    "\n",
    "# Obtener la fecha actual en formato YYYY.MM.DD\n",
    "fecha_actual = datetime.datetime.now().strftime(\"%Y.%m.%d\")\n",
    "# Nombre del archivo con la fecha\n",
    "nombre_archivo = f\"Api_Responses_{fecha_actual}.xlsx\""
   ]
  },
  {
   "cell_type": "code",
   "execution_count": 3,
   "metadata": {},
   "outputs": [],
   "source": [
    "# Cargar datos desde Excel.\n",
    "dtype_dict = {'N°TRANSPORTE': str}\n",
    "df_OT = pd.read_excel(\"DEVOLUCIONES CXP.xlsx\", dtype=dtype_dict) \n",
    "df_OT['N°TRANSPORTE'] = df_OT['N°TRANSPORTE'].str.strip()"
   ]
  },
  {
   "cell_type": "code",
   "execution_count": null,
   "metadata": {},
   "outputs": [],
   "source": [
    "# Definir la URL de la API.\n",
    "url = 'Ingresa tu URL'\n",
    "\n",
    "# Establecer Headers.\n",
    "headers = {\n",
    "    'Ocp-Apim-Subscription-Key': 'XXXXXXXXXXXXXXXXXXXXXXXXXX',\n",
    "    'Content-Type': 'XXXXXXXXX',\n",
    "    'Cache-Control': 'XXXXXXX'\n",
    "}\n",
    "\n",
    "\n",
    "# Determinar BusinessRut.\n",
    "business_rut = 000000000\n",
    "\n",
    "# Almacenar respuestas.\n",
    "responses = []\n",
    "\n",
    "# Realizar una solicitud PUT a la API.\n",
    "def make_put_request(transport_order_number):\n",
    "    data = {\n",
    "        'transportOrderNumber': transport_order_number,\n",
    "        'businessRut': business_rut\n",
    "    }\n",
    "\n",
    "    response = requests.put(url, headers=headers, data=json.dumps(data))\n",
    "    \n",
    "    # Convertir la respuesta JSON en un diccionario.\n",
    "    response_json = response.json()\n",
    "\n",
    "    # Guardar la respuesta en la lista.\n",
    "    responses.append({\n",
    "        'transportOrderNumber': transport_order_number,\n",
    "        #'statusCode': response_json.get('statusCode', None),\n",
    "        'statusDescription': response_json.get('statusDescription', None),\n",
    "        'errors': response_json.get('errors', None),\n",
    "        'http_status': response.status_code  \n",
    "    })\n",
    "\n",
    "    # Imprimir respuesta.\n",
    "    print(f\"Response ({transport_order_number}): {response.status_code} - {response_json}\")\n",
    "\n",
    "for index, row in df_OT.iterrows():\n",
    "    make_put_request(row['N°TRANSPORTE'])\n",
    "    time.sleep(2)\n",
    "\n",
    "# Guardar DataFrame.\n",
    "df_responses = pd.DataFrame(responses)\n",
    "df_responses.to_excel(nombre_archivo, index=False)\n"
   ]
  },
  {
   "cell_type": "code",
   "execution_count": 5,
   "metadata": {},
   "outputs": [
    {
     "name": "stdout",
     "output_type": "stream",
     "text": [
      "Tiempo transcurrido: 136.44 segundos\n",
      "Tiempo transcurrido: 2.27 minutos\n"
     ]
    }
   ],
   "source": [
    "# Finalizar el temporizador\n",
    "fin = time.time()\n",
    "\n",
    "# Calcular el tiempo transcurrido\n",
    "tiempo_transcurrido_seg = fin - inicio\n",
    "tiempo_transcurrido_min = tiempo_transcurrido_seg / 60\n",
    "\n",
    "# Imprimir el resultado\n",
    "print(f\"Tiempo transcurrido: {tiempo_transcurrido_seg:.2f} segundos\")\n",
    "print(f\"Tiempo transcurrido: {tiempo_transcurrido_min:.2f} minutos\")"
   ]
  }
 ],
 "metadata": {
  "kernelspec": {
   "display_name": "base",
   "language": "python",
   "name": "python3"
  },
  "language_info": {
   "codemirror_mode": {
    "name": "ipython",
    "version": 3
   },
   "file_extension": ".py",
   "mimetype": "text/x-python",
   "name": "python",
   "nbconvert_exporter": "python",
   "pygments_lexer": "ipython3",
   "version": "3.12.4"
  }
 },
 "nbformat": 4,
 "nbformat_minor": 2
}
